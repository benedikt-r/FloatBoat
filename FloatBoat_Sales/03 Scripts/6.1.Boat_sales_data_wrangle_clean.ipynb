{
 "cells": [
  {
   "cell_type": "markdown",
   "id": "380dd86a",
   "metadata": {},
   "source": [
    "1. Import Libraries\n",
    "2. Import Data Set\n",
    "3. Basic Analysis\n",
    "4. Data Wrangling"
   ]
  },
  {
   "cell_type": "code",
   "execution_count": 50,
   "id": "a3344e93",
   "metadata": {},
   "outputs": [],
   "source": [
    "# 1. Import libraries\n",
    "\n",
    "import pandas as pd\n",
    "import numpy as np\n",
    "import os\n",
    "import matplotlib.pyplot as plt\n",
    "import seaborn as sns\n",
    "import scipy"
   ]
  },
  {
   "cell_type": "code",
   "execution_count": 51,
   "id": "080bf65e",
   "metadata": {},
   "outputs": [],
   "source": [
    "# 2. Import Data Set"
   ]
  },
  {
   "cell_type": "code",
   "execution_count": 52,
   "id": "1fcc501f",
   "metadata": {},
   "outputs": [],
   "source": [
    "path = r'C:\\Users\\RUD\\Desktop\\A6_Boat_Sales'"
   ]
  },
  {
   "cell_type": "code",
   "execution_count": 53,
   "id": "6ec0ea48",
   "metadata": {
    "scrolled": true
   },
   "outputs": [],
   "source": [
    "# Import and create data set 'boat'\n",
    "df_boat = pd.read_csv(os.path.join(path, '02 Data', 'Original Data', 'boat_sales.csv'), index_col = False)"
   ]
  },
  {
   "cell_type": "code",
   "execution_count": 54,
   "id": "4f5dc037",
   "metadata": {},
   "outputs": [],
   "source": [
    "# 3. Basic Analysis"
   ]
  },
  {
   "cell_type": "code",
   "execution_count": 55,
   "id": "556a733f",
   "metadata": {
    "scrolled": true
   },
   "outputs": [
    {
     "data": {
      "text/html": [
       "<div>\n",
       "<style scoped>\n",
       "    .dataframe tbody tr th:only-of-type {\n",
       "        vertical-align: middle;\n",
       "    }\n",
       "\n",
       "    .dataframe tbody tr th {\n",
       "        vertical-align: top;\n",
       "    }\n",
       "\n",
       "    .dataframe thead th {\n",
       "        text-align: right;\n",
       "    }\n",
       "</style>\n",
       "<table border=\"1\" class=\"dataframe\">\n",
       "  <thead>\n",
       "    <tr style=\"text-align: right;\">\n",
       "      <th></th>\n",
       "      <th>Price</th>\n",
       "      <th>Boat Type</th>\n",
       "      <th>Manufacturer</th>\n",
       "      <th>Type</th>\n",
       "      <th>Year Built</th>\n",
       "      <th>Length</th>\n",
       "      <th>Width</th>\n",
       "      <th>Material</th>\n",
       "      <th>Location</th>\n",
       "      <th>Number of views last 7 days</th>\n",
       "    </tr>\n",
       "  </thead>\n",
       "  <tbody>\n",
       "    <tr>\n",
       "      <th>0</th>\n",
       "      <td>CHF 3337</td>\n",
       "      <td>Motor Yacht</td>\n",
       "      <td>Rigiflex power boats</td>\n",
       "      <td>new boat from stock</td>\n",
       "      <td>2017</td>\n",
       "      <td>4.00</td>\n",
       "      <td>1.90</td>\n",
       "      <td>NaN</td>\n",
       "      <td>Switzerland Â» Lake Geneva Â» VÃ©senaz</td>\n",
       "      <td>226</td>\n",
       "    </tr>\n",
       "    <tr>\n",
       "      <th>1</th>\n",
       "      <td>EUR 3490</td>\n",
       "      <td>Center console boat</td>\n",
       "      <td>Terhi power boats</td>\n",
       "      <td>new boat from stock</td>\n",
       "      <td>2020</td>\n",
       "      <td>4.00</td>\n",
       "      <td>1.50</td>\n",
       "      <td>Thermoplastic</td>\n",
       "      <td>Germany Â» BÃ¶nningstedt</td>\n",
       "      <td>75</td>\n",
       "    </tr>\n",
       "    <tr>\n",
       "      <th>2</th>\n",
       "      <td>CHF 3770</td>\n",
       "      <td>Sport Boat</td>\n",
       "      <td>Marine power boats</td>\n",
       "      <td>new boat from stock</td>\n",
       "      <td>0</td>\n",
       "      <td>3.69</td>\n",
       "      <td>1.42</td>\n",
       "      <td>Aluminium</td>\n",
       "      <td>Switzerland Â» Lake of Zurich Â» StÃ¤fa ZH</td>\n",
       "      <td>124</td>\n",
       "    </tr>\n",
       "    <tr>\n",
       "      <th>3</th>\n",
       "      <td>DKK 25900</td>\n",
       "      <td>Sport Boat</td>\n",
       "      <td>Pioner power boats</td>\n",
       "      <td>new boat from stock</td>\n",
       "      <td>2020</td>\n",
       "      <td>3.00</td>\n",
       "      <td>1.00</td>\n",
       "      <td>NaN</td>\n",
       "      <td>Denmark Â» Svendborg</td>\n",
       "      <td>64</td>\n",
       "    </tr>\n",
       "    <tr>\n",
       "      <th>4</th>\n",
       "      <td>EUR 3399</td>\n",
       "      <td>Fishing Boat</td>\n",
       "      <td>Linder power boats</td>\n",
       "      <td>new boat from stock</td>\n",
       "      <td>2019</td>\n",
       "      <td>3.55</td>\n",
       "      <td>1.46</td>\n",
       "      <td>Aluminium</td>\n",
       "      <td>Germany Â» Bayern Â» MÃ¼nchen</td>\n",
       "      <td>58</td>\n",
       "    </tr>\n",
       "  </tbody>\n",
       "</table>\n",
       "</div>"
      ],
      "text/plain": [
       "       Price            Boat Type          Manufacturer                 Type  \\\n",
       "0   CHF 3337          Motor Yacht  Rigiflex power boats  new boat from stock   \n",
       "1   EUR 3490  Center console boat     Terhi power boats  new boat from stock   \n",
       "2   CHF 3770           Sport Boat    Marine power boats  new boat from stock   \n",
       "3  DKK 25900           Sport Boat    Pioner power boats  new boat from stock   \n",
       "4   EUR 3399         Fishing Boat    Linder power boats  new boat from stock   \n",
       "\n",
       "   Year Built  Length  Width       Material  \\\n",
       "0        2017    4.00   1.90            NaN   \n",
       "1        2020    4.00   1.50  Thermoplastic   \n",
       "2           0    3.69   1.42      Aluminium   \n",
       "3        2020    3.00   1.00            NaN   \n",
       "4        2019    3.55   1.46      Aluminium   \n",
       "\n",
       "                                     Location  Number of views last 7 days  \n",
       "0      Switzerland Â» Lake Geneva Â» VÃ©senaz                          226  \n",
       "1                    Germany Â» BÃ¶nningstedt                           75  \n",
       "2  Switzerland Â» Lake of Zurich Â» StÃ¤fa ZH                          124  \n",
       "3                        Denmark Â» Svendborg                           64  \n",
       "4               Germany Â» Bayern Â» MÃ¼nchen                           58  "
      ]
     },
     "execution_count": 55,
     "metadata": {},
     "output_type": "execute_result"
    }
   ],
   "source": [
    "df_boat.head()"
   ]
  },
  {
   "cell_type": "code",
   "execution_count": 56,
   "id": "880e7305",
   "metadata": {},
   "outputs": [
    {
     "data": {
      "text/plain": [
       "(9888, 10)"
      ]
     },
     "execution_count": 56,
     "metadata": {},
     "output_type": "execute_result"
    }
   ],
   "source": [
    "df_boat.shape"
   ]
  },
  {
   "cell_type": "code",
   "execution_count": 57,
   "id": "b1b086ef",
   "metadata": {
    "scrolled": false
   },
   "outputs": [
    {
     "data": {
      "text/plain": [
       "Price                             0\n",
       "Boat Type                         0\n",
       "Manufacturer                   1338\n",
       "Type                              6\n",
       "Year Built                        0\n",
       "Length                            9\n",
       "Width                            56\n",
       "Material                       1749\n",
       "Location                         36\n",
       "Number of views last 7 days       0\n",
       "dtype: int64"
      ]
     },
     "execution_count": 57,
     "metadata": {},
     "output_type": "execute_result"
    }
   ],
   "source": [
    "df_boat.isnull().sum()"
   ]
  },
  {
   "cell_type": "code",
   "execution_count": 58,
   "id": "e9a0adf5",
   "metadata": {},
   "outputs": [],
   "source": [
    "df_boat['Length'] = df_boat['Length'].fillna(df_boat['Length'].median())\n",
    "df_boat['Width'] = df_boat['Width'].fillna(df_boat['Width'].median())"
   ]
  },
  {
   "cell_type": "code",
   "execution_count": 59,
   "id": "13ab2655",
   "metadata": {},
   "outputs": [],
   "source": [
    "df_boat_clean = df_boat.dropna()"
   ]
  },
  {
   "cell_type": "code",
   "execution_count": 60,
   "id": "ffb8a8a8",
   "metadata": {},
   "outputs": [
    {
     "data": {
      "text/plain": [
       "(7037, 10)"
      ]
     },
     "execution_count": 60,
     "metadata": {},
     "output_type": "execute_result"
    }
   ],
   "source": [
    "df_boat_clean.shape"
   ]
  },
  {
   "cell_type": "code",
   "execution_count": 61,
   "id": "209e9c11",
   "metadata": {},
   "outputs": [
    {
     "data": {
      "text/plain": [
       "Price                          0\n",
       "Boat Type                      0\n",
       "Manufacturer                   0\n",
       "Type                           0\n",
       "Year Built                     0\n",
       "Length                         0\n",
       "Width                          0\n",
       "Material                       0\n",
       "Location                       0\n",
       "Number of views last 7 days    0\n",
       "dtype: int64"
      ]
     },
     "execution_count": 61,
     "metadata": {},
     "output_type": "execute_result"
    }
   ],
   "source": [
    "df_boat_clean.isnull().sum()"
   ]
  },
  {
   "cell_type": "code",
   "execution_count": 62,
   "id": "501cc937",
   "metadata": {
    "scrolled": true
   },
   "outputs": [
    {
     "name": "stdout",
     "output_type": "stream",
     "text": [
      "<class 'pandas.core.frame.DataFrame'>\n",
      "RangeIndex: 9888 entries, 0 to 9887\n",
      "Data columns (total 10 columns):\n",
      " #   Column                       Non-Null Count  Dtype  \n",
      "---  ------                       --------------  -----  \n",
      " 0   Price                        9888 non-null   object \n",
      " 1   Boat Type                    9888 non-null   object \n",
      " 2   Manufacturer                 8550 non-null   object \n",
      " 3   Type                         9882 non-null   object \n",
      " 4   Year Built                   9888 non-null   int64  \n",
      " 5   Length                       9888 non-null   float64\n",
      " 6   Width                        9888 non-null   float64\n",
      " 7   Material                     8139 non-null   object \n",
      " 8   Location                     9852 non-null   object \n",
      " 9   Number of views last 7 days  9888 non-null   int64  \n",
      "dtypes: float64(2), int64(2), object(6)\n",
      "memory usage: 772.6+ KB\n"
     ]
    }
   ],
   "source": [
    "df_boat.info()"
   ]
  },
  {
   "cell_type": "code",
   "execution_count": 63,
   "id": "b4ff257a",
   "metadata": {},
   "outputs": [],
   "source": [
    "# Descriptive Statistics "
   ]
  },
  {
   "cell_type": "code",
   "execution_count": 64,
   "id": "6fedb859",
   "metadata": {
    "scrolled": false
   },
   "outputs": [
    {
     "data": {
      "text/html": [
       "<div>\n",
       "<style scoped>\n",
       "    .dataframe tbody tr th:only-of-type {\n",
       "        vertical-align: middle;\n",
       "    }\n",
       "\n",
       "    .dataframe tbody tr th {\n",
       "        vertical-align: top;\n",
       "    }\n",
       "\n",
       "    .dataframe thead th {\n",
       "        text-align: right;\n",
       "    }\n",
       "</style>\n",
       "<table border=\"1\" class=\"dataframe\">\n",
       "  <thead>\n",
       "    <tr style=\"text-align: right;\">\n",
       "      <th></th>\n",
       "      <th>Year Built</th>\n",
       "      <th>Length</th>\n",
       "      <th>Width</th>\n",
       "      <th>Number of views last 7 days</th>\n",
       "    </tr>\n",
       "  </thead>\n",
       "  <tbody>\n",
       "    <tr>\n",
       "      <th>count</th>\n",
       "      <td>9888.000000</td>\n",
       "      <td>9888.000000</td>\n",
       "      <td>9888.000000</td>\n",
       "      <td>9888.000000</td>\n",
       "    </tr>\n",
       "    <tr>\n",
       "      <th>mean</th>\n",
       "      <td>1893.192860</td>\n",
       "      <td>11.568843</td>\n",
       "      <td>3.519047</td>\n",
       "      <td>149.160801</td>\n",
       "    </tr>\n",
       "    <tr>\n",
       "      <th>std</th>\n",
       "      <td>460.201582</td>\n",
       "      <td>6.000213</td>\n",
       "      <td>1.217156</td>\n",
       "      <td>151.819752</td>\n",
       "    </tr>\n",
       "    <tr>\n",
       "      <th>min</th>\n",
       "      <td>0.000000</td>\n",
       "      <td>1.040000</td>\n",
       "      <td>0.010000</td>\n",
       "      <td>13.000000</td>\n",
       "    </tr>\n",
       "    <tr>\n",
       "      <th>25%</th>\n",
       "      <td>1996.000000</td>\n",
       "      <td>7.470000</td>\n",
       "      <td>2.550000</td>\n",
       "      <td>70.000000</td>\n",
       "    </tr>\n",
       "    <tr>\n",
       "      <th>50%</th>\n",
       "      <td>2007.000000</td>\n",
       "      <td>10.280000</td>\n",
       "      <td>3.330000</td>\n",
       "      <td>108.000000</td>\n",
       "    </tr>\n",
       "    <tr>\n",
       "      <th>75%</th>\n",
       "      <td>2017.000000</td>\n",
       "      <td>13.920000</td>\n",
       "      <td>4.250000</td>\n",
       "      <td>172.000000</td>\n",
       "    </tr>\n",
       "    <tr>\n",
       "      <th>max</th>\n",
       "      <td>2021.000000</td>\n",
       "      <td>100.000000</td>\n",
       "      <td>25.160000</td>\n",
       "      <td>3263.000000</td>\n",
       "    </tr>\n",
       "  </tbody>\n",
       "</table>\n",
       "</div>"
      ],
      "text/plain": [
       "        Year Built       Length        Width  Number of views last 7 days\n",
       "count  9888.000000  9888.000000  9888.000000                  9888.000000\n",
       "mean   1893.192860    11.568843     3.519047                   149.160801\n",
       "std     460.201582     6.000213     1.217156                   151.819752\n",
       "min       0.000000     1.040000     0.010000                    13.000000\n",
       "25%    1996.000000     7.470000     2.550000                    70.000000\n",
       "50%    2007.000000    10.280000     3.330000                   108.000000\n",
       "75%    2017.000000    13.920000     4.250000                   172.000000\n",
       "max    2021.000000   100.000000    25.160000                  3263.000000"
      ]
     },
     "execution_count": 64,
     "metadata": {},
     "output_type": "execute_result"
    }
   ],
   "source": [
    "df_boat.describe()"
   ]
  },
  {
   "cell_type": "code",
   "execution_count": 65,
   "id": "dfcfe879",
   "metadata": {},
   "outputs": [],
   "source": [
    "# drop the years with 0\n",
    "df_boat_clean = df_boat_clean[df_boat_clean['Year Built']!=0]"
   ]
  },
  {
   "cell_type": "code",
   "execution_count": 66,
   "id": "f2ae9fb8",
   "metadata": {},
   "outputs": [
    {
     "data": {
      "text/html": [
       "<div>\n",
       "<style scoped>\n",
       "    .dataframe tbody tr th:only-of-type {\n",
       "        vertical-align: middle;\n",
       "    }\n",
       "\n",
       "    .dataframe tbody tr th {\n",
       "        vertical-align: top;\n",
       "    }\n",
       "\n",
       "    .dataframe thead th {\n",
       "        text-align: right;\n",
       "    }\n",
       "</style>\n",
       "<table border=\"1\" class=\"dataframe\">\n",
       "  <thead>\n",
       "    <tr style=\"text-align: right;\">\n",
       "      <th></th>\n",
       "      <th>Year Built</th>\n",
       "      <th>Length</th>\n",
       "      <th>Width</th>\n",
       "      <th>Number of views last 7 days</th>\n",
       "    </tr>\n",
       "  </thead>\n",
       "  <tbody>\n",
       "    <tr>\n",
       "      <th>count</th>\n",
       "      <td>6607.000000</td>\n",
       "      <td>6607.000000</td>\n",
       "      <td>6607.000000</td>\n",
       "      <td>6607.000000</td>\n",
       "    </tr>\n",
       "    <tr>\n",
       "      <th>mean</th>\n",
       "      <td>2006.764038</td>\n",
       "      <td>11.228538</td>\n",
       "      <td>3.476063</td>\n",
       "      <td>162.011200</td>\n",
       "    </tr>\n",
       "    <tr>\n",
       "      <th>std</th>\n",
       "      <td>12.658449</td>\n",
       "      <td>5.177174</td>\n",
       "      <td>1.120912</td>\n",
       "      <td>170.771177</td>\n",
       "    </tr>\n",
       "    <tr>\n",
       "      <th>min</th>\n",
       "      <td>1901.000000</td>\n",
       "      <td>2.320000</td>\n",
       "      <td>0.860000</td>\n",
       "      <td>13.000000</td>\n",
       "    </tr>\n",
       "    <tr>\n",
       "      <th>25%</th>\n",
       "      <td>2000.000000</td>\n",
       "      <td>7.470000</td>\n",
       "      <td>2.550000</td>\n",
       "      <td>73.000000</td>\n",
       "    </tr>\n",
       "    <tr>\n",
       "      <th>50%</th>\n",
       "      <td>2008.000000</td>\n",
       "      <td>10.000000</td>\n",
       "      <td>3.300000</td>\n",
       "      <td>113.000000</td>\n",
       "    </tr>\n",
       "    <tr>\n",
       "      <th>75%</th>\n",
       "      <td>2018.000000</td>\n",
       "      <td>13.720000</td>\n",
       "      <td>4.200000</td>\n",
       "      <td>187.000000</td>\n",
       "    </tr>\n",
       "    <tr>\n",
       "      <th>max</th>\n",
       "      <td>2021.000000</td>\n",
       "      <td>56.000000</td>\n",
       "      <td>16.000000</td>\n",
       "      <td>3263.000000</td>\n",
       "    </tr>\n",
       "  </tbody>\n",
       "</table>\n",
       "</div>"
      ],
      "text/plain": [
       "        Year Built       Length        Width  Number of views last 7 days\n",
       "count  6607.000000  6607.000000  6607.000000                  6607.000000\n",
       "mean   2006.764038    11.228538     3.476063                   162.011200\n",
       "std      12.658449     5.177174     1.120912                   170.771177\n",
       "min    1901.000000     2.320000     0.860000                    13.000000\n",
       "25%    2000.000000     7.470000     2.550000                    73.000000\n",
       "50%    2008.000000    10.000000     3.300000                   113.000000\n",
       "75%    2018.000000    13.720000     4.200000                   187.000000\n",
       "max    2021.000000    56.000000    16.000000                  3263.000000"
      ]
     },
     "execution_count": 66,
     "metadata": {},
     "output_type": "execute_result"
    }
   ],
   "source": [
    "df_boat_clean.describe()"
   ]
  },
  {
   "cell_type": "code",
   "execution_count": 67,
   "id": "65731574",
   "metadata": {},
   "outputs": [],
   "source": [
    "# check for duplicates\n",
    "df_boat_clean_dups = df_boat_clean[df_boat_clean.duplicated()]"
   ]
  },
  {
   "cell_type": "code",
   "execution_count": 68,
   "id": "1ca4c6f8",
   "metadata": {},
   "outputs": [
    {
     "data": {
      "text/html": [
       "<div>\n",
       "<style scoped>\n",
       "    .dataframe tbody tr th:only-of-type {\n",
       "        vertical-align: middle;\n",
       "    }\n",
       "\n",
       "    .dataframe tbody tr th {\n",
       "        vertical-align: top;\n",
       "    }\n",
       "\n",
       "    .dataframe thead th {\n",
       "        text-align: right;\n",
       "    }\n",
       "</style>\n",
       "<table border=\"1\" class=\"dataframe\">\n",
       "  <thead>\n",
       "    <tr style=\"text-align: right;\">\n",
       "      <th></th>\n",
       "      <th>Price</th>\n",
       "      <th>Boat Type</th>\n",
       "      <th>Manufacturer</th>\n",
       "      <th>Type</th>\n",
       "      <th>Year Built</th>\n",
       "      <th>Length</th>\n",
       "      <th>Width</th>\n",
       "      <th>Material</th>\n",
       "      <th>Location</th>\n",
       "      <th>Number of views last 7 days</th>\n",
       "    </tr>\n",
       "  </thead>\n",
       "  <tbody>\n",
       "  </tbody>\n",
       "</table>\n",
       "</div>"
      ],
      "text/plain": [
       "Empty DataFrame\n",
       "Columns: [Price, Boat Type, Manufacturer, Type, Year Built, Length, Width, Material, Location, Number of views last 7 days]\n",
       "Index: []"
      ]
     },
     "execution_count": 68,
     "metadata": {},
     "output_type": "execute_result"
    }
   ],
   "source": [
    "df_boat_clean_dups"
   ]
  },
  {
   "cell_type": "code",
   "execution_count": 69,
   "id": "c631873b",
   "metadata": {},
   "outputs": [
    {
     "name": "stderr",
     "output_type": "stream",
     "text": [
      "C:\\Users\\RUD\\AppData\\Local\\Temp\\ipykernel_7608\\3943468162.py:3: FutureWarning: DataFrame.applymap has been deprecated. Use DataFrame.map instead.\n",
      "  weird = (df_boat_clean[[col]].applymap(type) != df_boat_clean[[col]].iloc[0].apply(type)).any(axis = 1)\n",
      "C:\\Users\\RUD\\AppData\\Local\\Temp\\ipykernel_7608\\3943468162.py:3: FutureWarning: DataFrame.applymap has been deprecated. Use DataFrame.map instead.\n",
      "  weird = (df_boat_clean[[col]].applymap(type) != df_boat_clean[[col]].iloc[0].apply(type)).any(axis = 1)\n",
      "C:\\Users\\RUD\\AppData\\Local\\Temp\\ipykernel_7608\\3943468162.py:3: FutureWarning: DataFrame.applymap has been deprecated. Use DataFrame.map instead.\n",
      "  weird = (df_boat_clean[[col]].applymap(type) != df_boat_clean[[col]].iloc[0].apply(type)).any(axis = 1)\n",
      "C:\\Users\\RUD\\AppData\\Local\\Temp\\ipykernel_7608\\3943468162.py:3: FutureWarning: DataFrame.applymap has been deprecated. Use DataFrame.map instead.\n",
      "  weird = (df_boat_clean[[col]].applymap(type) != df_boat_clean[[col]].iloc[0].apply(type)).any(axis = 1)\n",
      "C:\\Users\\RUD\\AppData\\Local\\Temp\\ipykernel_7608\\3943468162.py:3: FutureWarning: DataFrame.applymap has been deprecated. Use DataFrame.map instead.\n",
      "  weird = (df_boat_clean[[col]].applymap(type) != df_boat_clean[[col]].iloc[0].apply(type)).any(axis = 1)\n",
      "C:\\Users\\RUD\\AppData\\Local\\Temp\\ipykernel_7608\\3943468162.py:3: FutureWarning: DataFrame.applymap has been deprecated. Use DataFrame.map instead.\n",
      "  weird = (df_boat_clean[[col]].applymap(type) != df_boat_clean[[col]].iloc[0].apply(type)).any(axis = 1)\n",
      "C:\\Users\\RUD\\AppData\\Local\\Temp\\ipykernel_7608\\3943468162.py:3: FutureWarning: DataFrame.applymap has been deprecated. Use DataFrame.map instead.\n",
      "  weird = (df_boat_clean[[col]].applymap(type) != df_boat_clean[[col]].iloc[0].apply(type)).any(axis = 1)\n",
      "C:\\Users\\RUD\\AppData\\Local\\Temp\\ipykernel_7608\\3943468162.py:3: FutureWarning: DataFrame.applymap has been deprecated. Use DataFrame.map instead.\n",
      "  weird = (df_boat_clean[[col]].applymap(type) != df_boat_clean[[col]].iloc[0].apply(type)).any(axis = 1)\n",
      "C:\\Users\\RUD\\AppData\\Local\\Temp\\ipykernel_7608\\3943468162.py:3: FutureWarning: DataFrame.applymap has been deprecated. Use DataFrame.map instead.\n",
      "  weird = (df_boat_clean[[col]].applymap(type) != df_boat_clean[[col]].iloc[0].apply(type)).any(axis = 1)\n",
      "C:\\Users\\RUD\\AppData\\Local\\Temp\\ipykernel_7608\\3943468162.py:3: FutureWarning: DataFrame.applymap has been deprecated. Use DataFrame.map instead.\n",
      "  weird = (df_boat_clean[[col]].applymap(type) != df_boat_clean[[col]].iloc[0].apply(type)).any(axis = 1)\n"
     ]
    }
   ],
   "source": [
    "# check for mixed data type\n",
    "for col in df_boat_clean.columns.tolist():\n",
    "  weird = (df_boat_clean[[col]].applymap(type) != df_boat_clean[[col]].iloc[0].apply(type)).any(axis = 1)\n",
    "  if len (df_boat_clean[weird]) > 0:\n",
    "    print (col)"
   ]
  },
  {
   "cell_type": "code",
   "execution_count": 70,
   "id": "c83ff43c",
   "metadata": {},
   "outputs": [
    {
     "data": {
      "text/plain": [
       "(6607, 10)"
      ]
     },
     "execution_count": 70,
     "metadata": {},
     "output_type": "execute_result"
    }
   ],
   "source": [
    "# check for the shape of the cleaned dataframe\n",
    "df_boat_clean.shape"
   ]
  },
  {
   "cell_type": "code",
   "execution_count": 71,
   "id": "c16f39c4",
   "metadata": {},
   "outputs": [],
   "source": [
    "# 4. Data Wrangling"
   ]
  },
  {
   "cell_type": "code",
   "execution_count": 72,
   "id": "2fe7b237",
   "metadata": {},
   "outputs": [],
   "source": [
    "# Reduce the 'Location' variable to Country"
   ]
  },
  {
   "cell_type": "code",
   "execution_count": 73,
   "id": "4ea62d4c",
   "metadata": {
    "scrolled": false
   },
   "outputs": [
    {
     "data": {
      "text/plain": [
       "Location\n",
       "Croatia (Hrvatska)                            204\n",
       "Netherlands Â» In verkoophaven                164\n",
       "Italy Â» Toscana Â» Toscana                   107\n",
       "France                                        100\n",
       "Italy Â» Mar Tirreno                           95\n",
       "                                             ... \n",
       "Italy Â» lombardia                              1\n",
       "Italy Â» Adria (IT) Â» Grado                    1\n",
       "Greece Â» onbekend                              1\n",
       "Croatia (Hrvatska) Â» BOOTE RIEDL NOVIGRAD      1\n",
       "Switzerland Â» Bielersee Â» Gerolfingen         1\n",
       "Name: count, Length: 2323, dtype: int64"
      ]
     },
     "execution_count": 73,
     "metadata": {},
     "output_type": "execute_result"
    }
   ],
   "source": [
    "df_boat_clean['Location'].value_counts()"
   ]
  },
  {
   "cell_type": "code",
   "execution_count": 74,
   "id": "aa959acb",
   "metadata": {},
   "outputs": [],
   "source": [
    "df_boat_clean['Location'] = df_boat_clean['Location'].str.split(' ').str[0]"
   ]
  },
  {
   "cell_type": "code",
   "execution_count": 75,
   "id": "b89081ec",
   "metadata": {},
   "outputs": [],
   "source": [
    "# Transform the values of the 'Prices' variable to one currency: EUR "
   ]
  },
  {
   "cell_type": "code",
   "execution_count": 76,
   "id": "96977037",
   "metadata": {
    "scrolled": true
   },
   "outputs": [
    {
     "data": {
      "text/plain": [
       "array(['EUR', 'CHF', 'DKK', 'Â£'], dtype=object)"
      ]
     },
     "execution_count": 76,
     "metadata": {},
     "output_type": "execute_result"
    }
   ],
   "source": [
    "# Extract type of currency and amount from Price columns\n",
    "curr = df_boat_clean['Price'].str.split(' ', expand=True).rename(columns={0:'Currency',1:'Amount'})\n",
    "\n",
    "# Changing data type of currency to int\n",
    "curr['Amount'] = curr['Amount'].astype(int)\n",
    "\n",
    "# Checking unique currencies\n",
    "curr['Currency'].unique()"
   ]
  },
  {
   "cell_type": "code",
   "execution_count": 77,
   "id": "5d6765d7",
   "metadata": {},
   "outputs": [],
   "source": [
    "# Function for convertion - Currency rates from 27.05.24\n",
    "def convert_curr(x):\n",
    "    if x['Currency'] == 'CHF':\n",
    "        return x['Amount']*1.01\n",
    "    elif x['Currency'] == 'DKK':\n",
    "        return x['Amount']*0.13\n",
    "    elif x['Currency'] == 'Â£':\n",
    "        return x['Amount']*1.18\n",
    "    else:\n",
    "        return x['Amount']"
   ]
  },
  {
   "cell_type": "code",
   "execution_count": 78,
   "id": "655038b0",
   "metadata": {
    "scrolled": true
   },
   "outputs": [],
   "source": [
    "#  Convert values from'Price' in EUR \n",
    "df_boat_clean['Price in EUR'] = curr.apply(convert_curr, axis=1).astype(int)\n",
    "df_boat_clean = df_boat_clean.drop('Price', axis=1)"
   ]
  },
  {
   "cell_type": "code",
   "execution_count": 79,
   "id": "acd02977",
   "metadata": {
    "scrolled": true
   },
   "outputs": [
    {
     "data": {
      "text/html": [
       "<div>\n",
       "<style scoped>\n",
       "    .dataframe tbody tr th:only-of-type {\n",
       "        vertical-align: middle;\n",
       "    }\n",
       "\n",
       "    .dataframe tbody tr th {\n",
       "        vertical-align: top;\n",
       "    }\n",
       "\n",
       "    .dataframe thead th {\n",
       "        text-align: right;\n",
       "    }\n",
       "</style>\n",
       "<table border=\"1\" class=\"dataframe\">\n",
       "  <thead>\n",
       "    <tr style=\"text-align: right;\">\n",
       "      <th></th>\n",
       "      <th>Boat Type</th>\n",
       "      <th>Manufacturer</th>\n",
       "      <th>Type</th>\n",
       "      <th>Year Built</th>\n",
       "      <th>Length</th>\n",
       "      <th>Width</th>\n",
       "      <th>Material</th>\n",
       "      <th>Location</th>\n",
       "      <th>Number of views last 7 days</th>\n",
       "      <th>Price in EUR</th>\n",
       "    </tr>\n",
       "  </thead>\n",
       "  <tbody>\n",
       "    <tr>\n",
       "      <th>1</th>\n",
       "      <td>Center console boat</td>\n",
       "      <td>Terhi power boats</td>\n",
       "      <td>new boat from stock</td>\n",
       "      <td>2020</td>\n",
       "      <td>4.00</td>\n",
       "      <td>1.50</td>\n",
       "      <td>Thermoplastic</td>\n",
       "      <td>Germany</td>\n",
       "      <td>75</td>\n",
       "      <td>3490</td>\n",
       "    </tr>\n",
       "    <tr>\n",
       "      <th>4</th>\n",
       "      <td>Fishing Boat</td>\n",
       "      <td>Linder power boats</td>\n",
       "      <td>new boat from stock</td>\n",
       "      <td>2019</td>\n",
       "      <td>3.55</td>\n",
       "      <td>1.46</td>\n",
       "      <td>Aluminium</td>\n",
       "      <td>Germany</td>\n",
       "      <td>58</td>\n",
       "      <td>3399</td>\n",
       "    </tr>\n",
       "    <tr>\n",
       "      <th>10</th>\n",
       "      <td>Fishing Boat</td>\n",
       "      <td>Terhi power boats</td>\n",
       "      <td>Used boat,Electric</td>\n",
       "      <td>1987</td>\n",
       "      <td>4.35</td>\n",
       "      <td>1.75</td>\n",
       "      <td>GRP</td>\n",
       "      <td>Switzerland</td>\n",
       "      <td>239</td>\n",
       "      <td>3535</td>\n",
       "    </tr>\n",
       "    <tr>\n",
       "      <th>12</th>\n",
       "      <td>Sport Boat</td>\n",
       "      <td>GS Nautica power boats</td>\n",
       "      <td>Used boat</td>\n",
       "      <td>2004</td>\n",
       "      <td>4.70</td>\n",
       "      <td>2.00</td>\n",
       "      <td>GRP</td>\n",
       "      <td>Italy</td>\n",
       "      <td>69</td>\n",
       "      <td>3500</td>\n",
       "    </tr>\n",
       "    <tr>\n",
       "      <th>13</th>\n",
       "      <td>Runabout</td>\n",
       "      <td>Kimple power boats</td>\n",
       "      <td>new boat from stock</td>\n",
       "      <td>2020</td>\n",
       "      <td>4.40</td>\n",
       "      <td>1.65</td>\n",
       "      <td>Aluminium</td>\n",
       "      <td>Switzerland</td>\n",
       "      <td>113</td>\n",
       "      <td>4646</td>\n",
       "    </tr>\n",
       "  </tbody>\n",
       "</table>\n",
       "</div>"
      ],
      "text/plain": [
       "              Boat Type            Manufacturer                 Type  \\\n",
       "1   Center console boat       Terhi power boats  new boat from stock   \n",
       "4          Fishing Boat      Linder power boats  new boat from stock   \n",
       "10         Fishing Boat       Terhi power boats   Used boat,Electric   \n",
       "12           Sport Boat  GS Nautica power boats            Used boat   \n",
       "13             Runabout      Kimple power boats  new boat from stock   \n",
       "\n",
       "    Year Built  Length  Width       Material     Location  \\\n",
       "1         2020    4.00   1.50  Thermoplastic      Germany   \n",
       "4         2019    3.55   1.46      Aluminium      Germany   \n",
       "10        1987    4.35   1.75            GRP  Switzerland   \n",
       "12        2004    4.70   2.00            GRP        Italy   \n",
       "13        2020    4.40   1.65      Aluminium  Switzerland   \n",
       "\n",
       "    Number of views last 7 days  Price in EUR  \n",
       "1                            75          3490  \n",
       "4                            58          3399  \n",
       "10                          239          3535  \n",
       "12                           69          3500  \n",
       "13                          113          4646  "
      ]
     },
     "execution_count": 79,
     "metadata": {},
     "output_type": "execute_result"
    }
   ],
   "source": [
    "df_boat_clean.head()"
   ]
  },
  {
   "cell_type": "code",
   "execution_count": 80,
   "id": "cffe6317",
   "metadata": {
    "scrolled": false
   },
   "outputs": [
    {
     "data": {
      "text/html": [
       "<div>\n",
       "<style scoped>\n",
       "    .dataframe tbody tr th:only-of-type {\n",
       "        vertical-align: middle;\n",
       "    }\n",
       "\n",
       "    .dataframe tbody tr th {\n",
       "        vertical-align: top;\n",
       "    }\n",
       "\n",
       "    .dataframe thead th {\n",
       "        text-align: right;\n",
       "    }\n",
       "</style>\n",
       "<table border=\"1\" class=\"dataframe\">\n",
       "  <thead>\n",
       "    <tr style=\"text-align: right;\">\n",
       "      <th></th>\n",
       "      <th>Year Built</th>\n",
       "      <th>Length</th>\n",
       "      <th>Width</th>\n",
       "      <th>Number of views last 7 days</th>\n",
       "      <th>Price in EUR</th>\n",
       "    </tr>\n",
       "  </thead>\n",
       "  <tbody>\n",
       "    <tr>\n",
       "      <th>count</th>\n",
       "      <td>6607.000000</td>\n",
       "      <td>6607.000000</td>\n",
       "      <td>6607.000000</td>\n",
       "      <td>6607.000000</td>\n",
       "      <td>6.607000e+03</td>\n",
       "    </tr>\n",
       "    <tr>\n",
       "      <th>mean</th>\n",
       "      <td>2006.764038</td>\n",
       "      <td>11.228538</td>\n",
       "      <td>3.476063</td>\n",
       "      <td>162.011200</td>\n",
       "      <td>2.772538e+05</td>\n",
       "    </tr>\n",
       "    <tr>\n",
       "      <th>std</th>\n",
       "      <td>12.658449</td>\n",
       "      <td>5.177174</td>\n",
       "      <td>1.120912</td>\n",
       "      <td>170.771177</td>\n",
       "      <td>7.445500e+05</td>\n",
       "    </tr>\n",
       "    <tr>\n",
       "      <th>min</th>\n",
       "      <td>1901.000000</td>\n",
       "      <td>2.320000</td>\n",
       "      <td>0.860000</td>\n",
       "      <td>13.000000</td>\n",
       "      <td>3.399000e+03</td>\n",
       "    </tr>\n",
       "    <tr>\n",
       "      <th>25%</th>\n",
       "      <td>2000.000000</td>\n",
       "      <td>7.470000</td>\n",
       "      <td>2.550000</td>\n",
       "      <td>73.000000</td>\n",
       "      <td>4.499450e+04</td>\n",
       "    </tr>\n",
       "    <tr>\n",
       "      <th>50%</th>\n",
       "      <td>2008.000000</td>\n",
       "      <td>10.000000</td>\n",
       "      <td>3.300000</td>\n",
       "      <td>113.000000</td>\n",
       "      <td>9.500000e+04</td>\n",
       "    </tr>\n",
       "    <tr>\n",
       "      <th>75%</th>\n",
       "      <td>2018.000000</td>\n",
       "      <td>13.720000</td>\n",
       "      <td>4.200000</td>\n",
       "      <td>187.000000</td>\n",
       "      <td>2.490000e+05</td>\n",
       "    </tr>\n",
       "    <tr>\n",
       "      <th>max</th>\n",
       "      <td>2021.000000</td>\n",
       "      <td>56.000000</td>\n",
       "      <td>16.000000</td>\n",
       "      <td>3263.000000</td>\n",
       "      <td>2.350000e+07</td>\n",
       "    </tr>\n",
       "  </tbody>\n",
       "</table>\n",
       "</div>"
      ],
      "text/plain": [
       "        Year Built       Length        Width  Number of views last 7 days  \\\n",
       "count  6607.000000  6607.000000  6607.000000                  6607.000000   \n",
       "mean   2006.764038    11.228538     3.476063                   162.011200   \n",
       "std      12.658449     5.177174     1.120912                   170.771177   \n",
       "min    1901.000000     2.320000     0.860000                    13.000000   \n",
       "25%    2000.000000     7.470000     2.550000                    73.000000   \n",
       "50%    2008.000000    10.000000     3.300000                   113.000000   \n",
       "75%    2018.000000    13.720000     4.200000                   187.000000   \n",
       "max    2021.000000    56.000000    16.000000                  3263.000000   \n",
       "\n",
       "       Price in EUR  \n",
       "count  6.607000e+03  \n",
       "mean   2.772538e+05  \n",
       "std    7.445500e+05  \n",
       "min    3.399000e+03  \n",
       "25%    4.499450e+04  \n",
       "50%    9.500000e+04  \n",
       "75%    2.490000e+05  \n",
       "max    2.350000e+07  "
      ]
     },
     "execution_count": 80,
     "metadata": {},
     "output_type": "execute_result"
    }
   ],
   "source": [
    "df_boat_clean.describe()"
   ]
  },
  {
   "cell_type": "code",
   "execution_count": 81,
   "id": "b2cb903c",
   "metadata": {},
   "outputs": [],
   "source": [
    "df_boat_clean.to_csv(os.path.join(path, '02 Data', 'Prepared Data', 'boat_data_wrangled.csv'))"
   ]
  },
  {
   "cell_type": "code",
   "execution_count": null,
   "id": "f6c99c97",
   "metadata": {},
   "outputs": [],
   "source": []
  }
 ],
 "metadata": {
  "kernelspec": {
   "display_name": "Python 3 (ipykernel)",
   "language": "python",
   "name": "python3"
  },
  "language_info": {
   "codemirror_mode": {
    "name": "ipython",
    "version": 3
   },
   "file_extension": ".py",
   "mimetype": "text/x-python",
   "name": "python",
   "nbconvert_exporter": "python",
   "pygments_lexer": "ipython3",
   "version": "3.11.7"
  }
 },
 "nbformat": 4,
 "nbformat_minor": 5
}
